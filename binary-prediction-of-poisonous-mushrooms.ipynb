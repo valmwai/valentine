{
 "cells": [
  {
   "cell_type": "code",
   "execution_count": 1,
   "id": "ae7b8993",
   "metadata": {
    "_cell_guid": "b1076dfc-b9ad-4769-8c92-a6c4dae69d19",
    "_uuid": "8f2839f25d086af736a60e9eeb907d3b93b6e0e5",
    "execution": {
     "iopub.execute_input": "2024-08-27T13:22:05.520784Z",
     "iopub.status.busy": "2024-08-27T13:22:05.520236Z",
     "iopub.status.idle": "2024-08-27T13:22:08.202227Z",
     "shell.execute_reply": "2024-08-27T13:22:08.201034Z"
    },
    "papermill": {
     "duration": 2.698524,
     "end_time": "2024-08-27T13:22:08.205126",
     "exception": false,
     "start_time": "2024-08-27T13:22:05.506602",
     "status": "completed"
    },
    "tags": []
   },
   "outputs": [],
   "source": [
    "import numpy as np \n",
    "import pandas as pd\n",
    "import matplotlib.pyplot as plt\n",
    "import seaborn as sns\n",
    "from sklearn.preprocessing import LabelEncoder\n",
    "from sklearn.preprocessing import OneHotEncoder\n",
    "from sklearn.model_selection import train_test_split\n",
    "from sklearn.linear_model import LogisticRegression\n"
   ]
  },
  {
   "cell_type": "markdown",
   "id": "e7b89e7a",
   "metadata": {
    "papermill": {
     "duration": 0.009926,
     "end_time": "2024-08-27T13:22:08.225696",
     "exception": false,
     "start_time": "2024-08-27T13:22:08.215770",
     "status": "completed"
    },
    "tags": []
   },
   "source": [
    "# Importing the Data "
   ]
  },
  {
   "cell_type": "code",
   "execution_count": 2,
   "id": "9bb2f310",
   "metadata": {
    "execution": {
     "iopub.execute_input": "2024-08-27T13:22:08.249123Z",
     "iopub.status.busy": "2024-08-27T13:22:08.248557Z",
     "iopub.status.idle": "2024-08-27T13:22:28.196193Z",
     "shell.execute_reply": "2024-08-27T13:22:28.194852Z"
    },
    "papermill": {
     "duration": 19.963031,
     "end_time": "2024-08-27T13:22:28.199120",
     "exception": false,
     "start_time": "2024-08-27T13:22:08.236089",
     "status": "completed"
    },
    "tags": []
   },
   "outputs": [],
   "source": [
    "train_df=pd.read_csv('/kaggle/input/playground-series-s4e8/train.csv')\n",
    "test_df=pd.read_csv('/kaggle/input/playground-series-s4e8/test.csv')"
   ]
  },
  {
   "cell_type": "code",
   "execution_count": 3,
   "id": "aabe13d2",
   "metadata": {
    "execution": {
     "iopub.execute_input": "2024-08-27T13:22:28.221722Z",
     "iopub.status.busy": "2024-08-27T13:22:28.221306Z",
     "iopub.status.idle": "2024-08-27T13:22:28.265567Z",
     "shell.execute_reply": "2024-08-27T13:22:28.264431Z"
    },
    "papermill": {
     "duration": 0.058397,
     "end_time": "2024-08-27T13:22:28.268046",
     "exception": false,
     "start_time": "2024-08-27T13:22:28.209649",
     "status": "completed"
    },
    "tags": []
   },
   "outputs": [
    {
     "data": {
      "text/html": [
       "<div>\n",
       "<style scoped>\n",
       "    .dataframe tbody tr th:only-of-type {\n",
       "        vertical-align: middle;\n",
       "    }\n",
       "\n",
       "    .dataframe tbody tr th {\n",
       "        vertical-align: top;\n",
       "    }\n",
       "\n",
       "    .dataframe thead th {\n",
       "        text-align: right;\n",
       "    }\n",
       "</style>\n",
       "<table border=\"1\" class=\"dataframe\">\n",
       "  <thead>\n",
       "    <tr style=\"text-align: right;\">\n",
       "      <th></th>\n",
       "      <th>id</th>\n",
       "      <th>cap-diameter</th>\n",
       "      <th>cap-shape</th>\n",
       "      <th>cap-surface</th>\n",
       "      <th>cap-color</th>\n",
       "      <th>does-bruise-or-bleed</th>\n",
       "      <th>gill-attachment</th>\n",
       "      <th>gill-spacing</th>\n",
       "      <th>gill-color</th>\n",
       "      <th>stem-height</th>\n",
       "      <th>...</th>\n",
       "      <th>stem-root</th>\n",
       "      <th>stem-surface</th>\n",
       "      <th>stem-color</th>\n",
       "      <th>veil-type</th>\n",
       "      <th>veil-color</th>\n",
       "      <th>has-ring</th>\n",
       "      <th>ring-type</th>\n",
       "      <th>spore-print-color</th>\n",
       "      <th>habitat</th>\n",
       "      <th>season</th>\n",
       "    </tr>\n",
       "  </thead>\n",
       "  <tbody>\n",
       "    <tr>\n",
       "      <th>0</th>\n",
       "      <td>3116945</td>\n",
       "      <td>8.64</td>\n",
       "      <td>x</td>\n",
       "      <td>NaN</td>\n",
       "      <td>n</td>\n",
       "      <td>t</td>\n",
       "      <td>NaN</td>\n",
       "      <td>NaN</td>\n",
       "      <td>w</td>\n",
       "      <td>11.13</td>\n",
       "      <td>...</td>\n",
       "      <td>b</td>\n",
       "      <td>NaN</td>\n",
       "      <td>w</td>\n",
       "      <td>u</td>\n",
       "      <td>w</td>\n",
       "      <td>t</td>\n",
       "      <td>g</td>\n",
       "      <td>NaN</td>\n",
       "      <td>d</td>\n",
       "      <td>a</td>\n",
       "    </tr>\n",
       "    <tr>\n",
       "      <th>1</th>\n",
       "      <td>3116946</td>\n",
       "      <td>6.90</td>\n",
       "      <td>o</td>\n",
       "      <td>t</td>\n",
       "      <td>o</td>\n",
       "      <td>f</td>\n",
       "      <td>NaN</td>\n",
       "      <td>c</td>\n",
       "      <td>y</td>\n",
       "      <td>1.27</td>\n",
       "      <td>...</td>\n",
       "      <td>NaN</td>\n",
       "      <td>NaN</td>\n",
       "      <td>n</td>\n",
       "      <td>NaN</td>\n",
       "      <td>NaN</td>\n",
       "      <td>f</td>\n",
       "      <td>f</td>\n",
       "      <td>NaN</td>\n",
       "      <td>d</td>\n",
       "      <td>a</td>\n",
       "    </tr>\n",
       "    <tr>\n",
       "      <th>2</th>\n",
       "      <td>3116947</td>\n",
       "      <td>2.00</td>\n",
       "      <td>b</td>\n",
       "      <td>g</td>\n",
       "      <td>n</td>\n",
       "      <td>f</td>\n",
       "      <td>NaN</td>\n",
       "      <td>c</td>\n",
       "      <td>n</td>\n",
       "      <td>6.18</td>\n",
       "      <td>...</td>\n",
       "      <td>NaN</td>\n",
       "      <td>NaN</td>\n",
       "      <td>n</td>\n",
       "      <td>NaN</td>\n",
       "      <td>NaN</td>\n",
       "      <td>f</td>\n",
       "      <td>f</td>\n",
       "      <td>NaN</td>\n",
       "      <td>d</td>\n",
       "      <td>s</td>\n",
       "    </tr>\n",
       "    <tr>\n",
       "      <th>3</th>\n",
       "      <td>3116948</td>\n",
       "      <td>3.47</td>\n",
       "      <td>x</td>\n",
       "      <td>t</td>\n",
       "      <td>n</td>\n",
       "      <td>f</td>\n",
       "      <td>s</td>\n",
       "      <td>c</td>\n",
       "      <td>n</td>\n",
       "      <td>4.98</td>\n",
       "      <td>...</td>\n",
       "      <td>NaN</td>\n",
       "      <td>NaN</td>\n",
       "      <td>w</td>\n",
       "      <td>NaN</td>\n",
       "      <td>n</td>\n",
       "      <td>t</td>\n",
       "      <td>z</td>\n",
       "      <td>NaN</td>\n",
       "      <td>d</td>\n",
       "      <td>u</td>\n",
       "    </tr>\n",
       "    <tr>\n",
       "      <th>4</th>\n",
       "      <td>3116949</td>\n",
       "      <td>6.17</td>\n",
       "      <td>x</td>\n",
       "      <td>h</td>\n",
       "      <td>y</td>\n",
       "      <td>f</td>\n",
       "      <td>p</td>\n",
       "      <td>NaN</td>\n",
       "      <td>y</td>\n",
       "      <td>6.73</td>\n",
       "      <td>...</td>\n",
       "      <td>NaN</td>\n",
       "      <td>NaN</td>\n",
       "      <td>y</td>\n",
       "      <td>NaN</td>\n",
       "      <td>y</td>\n",
       "      <td>t</td>\n",
       "      <td>NaN</td>\n",
       "      <td>NaN</td>\n",
       "      <td>d</td>\n",
       "      <td>u</td>\n",
       "    </tr>\n",
       "  </tbody>\n",
       "</table>\n",
       "<p>5 rows × 21 columns</p>\n",
       "</div>"
      ],
      "text/plain": [
       "        id  cap-diameter cap-shape cap-surface cap-color does-bruise-or-bleed  \\\n",
       "0  3116945          8.64         x         NaN         n                    t   \n",
       "1  3116946          6.90         o           t         o                    f   \n",
       "2  3116947          2.00         b           g         n                    f   \n",
       "3  3116948          3.47         x           t         n                    f   \n",
       "4  3116949          6.17         x           h         y                    f   \n",
       "\n",
       "  gill-attachment gill-spacing gill-color  stem-height  ...  stem-root  \\\n",
       "0             NaN          NaN          w        11.13  ...          b   \n",
       "1             NaN            c          y         1.27  ...        NaN   \n",
       "2             NaN            c          n         6.18  ...        NaN   \n",
       "3               s            c          n         4.98  ...        NaN   \n",
       "4               p          NaN          y         6.73  ...        NaN   \n",
       "\n",
       "  stem-surface stem-color veil-type veil-color has-ring ring-type  \\\n",
       "0          NaN          w         u          w        t         g   \n",
       "1          NaN          n       NaN        NaN        f         f   \n",
       "2          NaN          n       NaN        NaN        f         f   \n",
       "3          NaN          w       NaN          n        t         z   \n",
       "4          NaN          y       NaN          y        t       NaN   \n",
       "\n",
       "  spore-print-color habitat season  \n",
       "0               NaN       d      a  \n",
       "1               NaN       d      a  \n",
       "2               NaN       d      s  \n",
       "3               NaN       d      u  \n",
       "4               NaN       d      u  \n",
       "\n",
       "[5 rows x 21 columns]"
      ]
     },
     "execution_count": 3,
     "metadata": {},
     "output_type": "execute_result"
    }
   ],
   "source": [
    "train_df.head()\n",
    "test_df.head()"
   ]
  },
  {
   "cell_type": "code",
   "execution_count": 4,
   "id": "91cbdff2",
   "metadata": {
    "execution": {
     "iopub.execute_input": "2024-08-27T13:22:28.291678Z",
     "iopub.status.busy": "2024-08-27T13:22:28.291235Z",
     "iopub.status.idle": "2024-08-27T13:22:28.316045Z",
     "shell.execute_reply": "2024-08-27T13:22:28.314852Z"
    },
    "papermill": {
     "duration": 0.039732,
     "end_time": "2024-08-27T13:22:28.318800",
     "exception": false,
     "start_time": "2024-08-27T13:22:28.279068",
     "status": "completed"
    },
    "tags": []
   },
   "outputs": [
    {
     "name": "stdout",
     "output_type": "stream",
     "text": [
      "<class 'pandas.core.frame.DataFrame'>\n",
      "RangeIndex: 3116945 entries, 0 to 3116944\n",
      "Data columns (total 22 columns):\n",
      " #   Column                Dtype  \n",
      "---  ------                -----  \n",
      " 0   id                    int64  \n",
      " 1   class                 object \n",
      " 2   cap-diameter          float64\n",
      " 3   cap-shape             object \n",
      " 4   cap-surface           object \n",
      " 5   cap-color             object \n",
      " 6   does-bruise-or-bleed  object \n",
      " 7   gill-attachment       object \n",
      " 8   gill-spacing          object \n",
      " 9   gill-color            object \n",
      " 10  stem-height           float64\n",
      " 11  stem-width            float64\n",
      " 12  stem-root             object \n",
      " 13  stem-surface          object \n",
      " 14  stem-color            object \n",
      " 15  veil-type             object \n",
      " 16  veil-color            object \n",
      " 17  has-ring              object \n",
      " 18  ring-type             object \n",
      " 19  spore-print-color     object \n",
      " 20  habitat               object \n",
      " 21  season                object \n",
      "dtypes: float64(3), int64(1), object(18)\n",
      "memory usage: 523.2+ MB\n"
     ]
    }
   ],
   "source": [
    "train_df.info()"
   ]
  },
  {
   "cell_type": "markdown",
   "id": "a6f49205",
   "metadata": {
    "papermill": {
     "duration": 0.010649,
     "end_time": "2024-08-27T13:22:28.340552",
     "exception": false,
     "start_time": "2024-08-27T13:22:28.329903",
     "status": "completed"
    },
    "tags": []
   },
   "source": [
    "# **Data Preprocessing**"
   ]
  },
  {
   "cell_type": "markdown",
   "id": "f54cd16d",
   "metadata": {
    "papermill": {
     "duration": 0.011288,
     "end_time": "2024-08-27T13:22:28.362911",
     "exception": false,
     "start_time": "2024-08-27T13:22:28.351623",
     "status": "completed"
    },
    "tags": []
   },
   "source": [
    "* **Training Data Prepocessing **"
   ]
  },
  {
   "cell_type": "code",
   "execution_count": 5,
   "id": "015ce1a4",
   "metadata": {
    "execution": {
     "iopub.execute_input": "2024-08-27T13:22:28.387843Z",
     "iopub.status.busy": "2024-08-27T13:22:28.387403Z",
     "iopub.status.idle": "2024-08-27T13:22:28.924729Z",
     "shell.execute_reply": "2024-08-27T13:22:28.923598Z"
    },
    "papermill": {
     "duration": 0.553611,
     "end_time": "2024-08-27T13:22:28.927443",
     "exception": false,
     "start_time": "2024-08-27T13:22:28.373832",
     "status": "completed"
    },
    "tags": []
   },
   "outputs": [
    {
     "data": {
      "text/html": [
       "<div>\n",
       "<style scoped>\n",
       "    .dataframe tbody tr th:only-of-type {\n",
       "        vertical-align: middle;\n",
       "    }\n",
       "\n",
       "    .dataframe tbody tr th {\n",
       "        vertical-align: top;\n",
       "    }\n",
       "\n",
       "    .dataframe thead th {\n",
       "        text-align: right;\n",
       "    }\n",
       "</style>\n",
       "<table border=\"1\" class=\"dataframe\">\n",
       "  <thead>\n",
       "    <tr style=\"text-align: right;\">\n",
       "      <th></th>\n",
       "      <th>id</th>\n",
       "      <th>cap-diameter</th>\n",
       "      <th>stem-height</th>\n",
       "      <th>stem-width</th>\n",
       "    </tr>\n",
       "  </thead>\n",
       "  <tbody>\n",
       "    <tr>\n",
       "      <th>count</th>\n",
       "      <td>3.116945e+06</td>\n",
       "      <td>3.116941e+06</td>\n",
       "      <td>3.116945e+06</td>\n",
       "      <td>3.116945e+06</td>\n",
       "    </tr>\n",
       "    <tr>\n",
       "      <th>mean</th>\n",
       "      <td>1.558472e+06</td>\n",
       "      <td>6.309848e+00</td>\n",
       "      <td>6.348333e+00</td>\n",
       "      <td>1.115379e+01</td>\n",
       "    </tr>\n",
       "    <tr>\n",
       "      <th>std</th>\n",
       "      <td>8.997847e+05</td>\n",
       "      <td>4.657931e+00</td>\n",
       "      <td>2.699755e+00</td>\n",
       "      <td>8.095477e+00</td>\n",
       "    </tr>\n",
       "    <tr>\n",
       "      <th>min</th>\n",
       "      <td>0.000000e+00</td>\n",
       "      <td>3.000000e-02</td>\n",
       "      <td>0.000000e+00</td>\n",
       "      <td>0.000000e+00</td>\n",
       "    </tr>\n",
       "    <tr>\n",
       "      <th>25%</th>\n",
       "      <td>7.792360e+05</td>\n",
       "      <td>3.320000e+00</td>\n",
       "      <td>4.670000e+00</td>\n",
       "      <td>4.970000e+00</td>\n",
       "    </tr>\n",
       "    <tr>\n",
       "      <th>50%</th>\n",
       "      <td>1.558472e+06</td>\n",
       "      <td>5.750000e+00</td>\n",
       "      <td>5.880000e+00</td>\n",
       "      <td>9.650000e+00</td>\n",
       "    </tr>\n",
       "    <tr>\n",
       "      <th>75%</th>\n",
       "      <td>2.337708e+06</td>\n",
       "      <td>8.240000e+00</td>\n",
       "      <td>7.410000e+00</td>\n",
       "      <td>1.563000e+01</td>\n",
       "    </tr>\n",
       "    <tr>\n",
       "      <th>max</th>\n",
       "      <td>3.116944e+06</td>\n",
       "      <td>8.067000e+01</td>\n",
       "      <td>8.872000e+01</td>\n",
       "      <td>1.029000e+02</td>\n",
       "    </tr>\n",
       "  </tbody>\n",
       "</table>\n",
       "</div>"
      ],
      "text/plain": [
       "                 id  cap-diameter   stem-height    stem-width\n",
       "count  3.116945e+06  3.116941e+06  3.116945e+06  3.116945e+06\n",
       "mean   1.558472e+06  6.309848e+00  6.348333e+00  1.115379e+01\n",
       "std    8.997847e+05  4.657931e+00  2.699755e+00  8.095477e+00\n",
       "min    0.000000e+00  3.000000e-02  0.000000e+00  0.000000e+00\n",
       "25%    7.792360e+05  3.320000e+00  4.670000e+00  4.970000e+00\n",
       "50%    1.558472e+06  5.750000e+00  5.880000e+00  9.650000e+00\n",
       "75%    2.337708e+06  8.240000e+00  7.410000e+00  1.563000e+01\n",
       "max    3.116944e+06  8.067000e+01  8.872000e+01  1.029000e+02"
      ]
     },
     "execution_count": 5,
     "metadata": {},
     "output_type": "execute_result"
    }
   ],
   "source": [
    "train_df.describe()"
   ]
  },
  {
   "cell_type": "code",
   "execution_count": null,
   "id": "44e963c5",
   "metadata": {
    "papermill": {
     "duration": 0.011463,
     "end_time": "2024-08-27T13:22:28.950082",
     "exception": false,
     "start_time": "2024-08-27T13:22:28.938619",
     "status": "completed"
    },
    "tags": []
   },
   "outputs": [],
   "source": []
  },
  {
   "cell_type": "code",
   "execution_count": 6,
   "id": "4bc91c16",
   "metadata": {
    "execution": {
     "iopub.execute_input": "2024-08-27T13:22:28.975136Z",
     "iopub.status.busy": "2024-08-27T13:22:28.974682Z",
     "iopub.status.idle": "2024-08-27T13:22:33.916252Z",
     "shell.execute_reply": "2024-08-27T13:22:33.915083Z"
    },
    "papermill": {
     "duration": 4.957669,
     "end_time": "2024-08-27T13:22:33.918976",
     "exception": false,
     "start_time": "2024-08-27T13:22:28.961307",
     "status": "completed"
    },
    "tags": []
   },
   "outputs": [
    {
     "data": {
      "text/plain": [
       "id                            0\n",
       "class                         0\n",
       "cap-diameter                  4\n",
       "cap-shape                    40\n",
       "cap-surface              671023\n",
       "cap-color                    12\n",
       "does-bruise-or-bleed          8\n",
       "gill-attachment          523936\n",
       "gill-spacing            1258435\n",
       "gill-color                   57\n",
       "stem-height                   0\n",
       "stem-width                    0\n",
       "stem-root               2757023\n",
       "stem-surface            1980861\n",
       "stem-color                   38\n",
       "veil-type               2957493\n",
       "veil-color              2740947\n",
       "has-ring                     24\n",
       "ring-type                128880\n",
       "spore-print-color       2849682\n",
       "habitat                      45\n",
       "season                        0\n",
       "dtype: int64"
      ]
     },
     "execution_count": 6,
     "metadata": {},
     "output_type": "execute_result"
    }
   ],
   "source": [
    "train_df.isnull().sum()"
   ]
  },
  {
   "cell_type": "code",
   "execution_count": 7,
   "id": "306d1819",
   "metadata": {
    "execution": {
     "iopub.execute_input": "2024-08-27T13:22:33.943911Z",
     "iopub.status.busy": "2024-08-27T13:22:33.943462Z",
     "iopub.status.idle": "2024-08-27T13:22:43.892607Z",
     "shell.execute_reply": "2024-08-27T13:22:43.891198Z"
    },
    "papermill": {
     "duration": 9.964605,
     "end_time": "2024-08-27T13:22:43.895246",
     "exception": false,
     "start_time": "2024-08-27T13:22:33.930641",
     "status": "completed"
    },
    "tags": []
   },
   "outputs": [
    {
     "data": {
      "text/html": [
       "<div>\n",
       "<style scoped>\n",
       "    .dataframe tbody tr th:only-of-type {\n",
       "        vertical-align: middle;\n",
       "    }\n",
       "\n",
       "    .dataframe tbody tr th {\n",
       "        vertical-align: top;\n",
       "    }\n",
       "\n",
       "    .dataframe thead th {\n",
       "        text-align: right;\n",
       "    }\n",
       "</style>\n",
       "<table border=\"1\" class=\"dataframe\">\n",
       "  <thead>\n",
       "    <tr style=\"text-align: right;\">\n",
       "      <th></th>\n",
       "      <th>Missing Values(train)</th>\n",
       "      <th>Percentage</th>\n",
       "    </tr>\n",
       "  </thead>\n",
       "  <tbody>\n",
       "    <tr>\n",
       "      <th>id</th>\n",
       "      <td>0</td>\n",
       "      <td>0.000000</td>\n",
       "    </tr>\n",
       "    <tr>\n",
       "      <th>class</th>\n",
       "      <td>0</td>\n",
       "      <td>0.000000</td>\n",
       "    </tr>\n",
       "    <tr>\n",
       "      <th>cap-diameter</th>\n",
       "      <td>4</td>\n",
       "      <td>0.000128</td>\n",
       "    </tr>\n",
       "    <tr>\n",
       "      <th>cap-shape</th>\n",
       "      <td>40</td>\n",
       "      <td>0.001283</td>\n",
       "    </tr>\n",
       "    <tr>\n",
       "      <th>cap-surface</th>\n",
       "      <td>671023</td>\n",
       "      <td>21.528227</td>\n",
       "    </tr>\n",
       "    <tr>\n",
       "      <th>cap-color</th>\n",
       "      <td>12</td>\n",
       "      <td>0.000385</td>\n",
       "    </tr>\n",
       "    <tr>\n",
       "      <th>does-bruise-or-bleed</th>\n",
       "      <td>8</td>\n",
       "      <td>0.000257</td>\n",
       "    </tr>\n",
       "    <tr>\n",
       "      <th>gill-attachment</th>\n",
       "      <td>523936</td>\n",
       "      <td>16.809280</td>\n",
       "    </tr>\n",
       "    <tr>\n",
       "      <th>gill-spacing</th>\n",
       "      <td>1258435</td>\n",
       "      <td>40.373988</td>\n",
       "    </tr>\n",
       "    <tr>\n",
       "      <th>gill-color</th>\n",
       "      <td>57</td>\n",
       "      <td>0.001829</td>\n",
       "    </tr>\n",
       "    <tr>\n",
       "      <th>stem-height</th>\n",
       "      <td>0</td>\n",
       "      <td>0.000000</td>\n",
       "    </tr>\n",
       "    <tr>\n",
       "      <th>stem-width</th>\n",
       "      <td>0</td>\n",
       "      <td>0.000000</td>\n",
       "    </tr>\n",
       "    <tr>\n",
       "      <th>stem-root</th>\n",
       "      <td>2757023</td>\n",
       "      <td>88.452732</td>\n",
       "    </tr>\n",
       "    <tr>\n",
       "      <th>stem-surface</th>\n",
       "      <td>1980861</td>\n",
       "      <td>63.551362</td>\n",
       "    </tr>\n",
       "    <tr>\n",
       "      <th>stem-color</th>\n",
       "      <td>38</td>\n",
       "      <td>0.001219</td>\n",
       "    </tr>\n",
       "    <tr>\n",
       "      <th>veil-type</th>\n",
       "      <td>2957493</td>\n",
       "      <td>94.884350</td>\n",
       "    </tr>\n",
       "    <tr>\n",
       "      <th>veil-color</th>\n",
       "      <td>2740947</td>\n",
       "      <td>87.936970</td>\n",
       "    </tr>\n",
       "    <tr>\n",
       "      <th>has-ring</th>\n",
       "      <td>24</td>\n",
       "      <td>0.000770</td>\n",
       "    </tr>\n",
       "    <tr>\n",
       "      <th>ring-type</th>\n",
       "      <td>128880</td>\n",
       "      <td>4.134818</td>\n",
       "    </tr>\n",
       "    <tr>\n",
       "      <th>spore-print-color</th>\n",
       "      <td>2849682</td>\n",
       "      <td>91.425482</td>\n",
       "    </tr>\n",
       "    <tr>\n",
       "      <th>habitat</th>\n",
       "      <td>45</td>\n",
       "      <td>0.001444</td>\n",
       "    </tr>\n",
       "    <tr>\n",
       "      <th>season</th>\n",
       "      <td>0</td>\n",
       "      <td>0.000000</td>\n",
       "    </tr>\n",
       "  </tbody>\n",
       "</table>\n",
       "</div>"
      ],
      "text/plain": [
       "                      Missing Values(train)  Percentage\n",
       "id                                        0    0.000000\n",
       "class                                     0    0.000000\n",
       "cap-diameter                              4    0.000128\n",
       "cap-shape                                40    0.001283\n",
       "cap-surface                          671023   21.528227\n",
       "cap-color                                12    0.000385\n",
       "does-bruise-or-bleed                      8    0.000257\n",
       "gill-attachment                      523936   16.809280\n",
       "gill-spacing                        1258435   40.373988\n",
       "gill-color                               57    0.001829\n",
       "stem-height                               0    0.000000\n",
       "stem-width                                0    0.000000\n",
       "stem-root                           2757023   88.452732\n",
       "stem-surface                        1980861   63.551362\n",
       "stem-color                               38    0.001219\n",
       "veil-type                           2957493   94.884350\n",
       "veil-color                          2740947   87.936970\n",
       "has-ring                                 24    0.000770\n",
       "ring-type                            128880    4.134818\n",
       "spore-print-color                   2849682   91.425482\n",
       "habitat                                  45    0.001444\n",
       "season                                    0    0.000000"
      ]
     },
     "execution_count": 7,
     "metadata": {},
     "output_type": "execute_result"
    }
   ],
   "source": [
    "train_na=train_df.isnull().sum()\n",
    "percentage = train_df.isnull().mean() * 100\n",
    "missing = pd.DataFrame({'Missing Values(train)':train_na, 'Percentage':percentage})\n",
    "missing\n"
   ]
  },
  {
   "cell_type": "code",
   "execution_count": 8,
   "id": "d4810c40",
   "metadata": {
    "execution": {
     "iopub.execute_input": "2024-08-27T13:22:43.920737Z",
     "iopub.status.busy": "2024-08-27T13:22:43.920301Z",
     "iopub.status.idle": "2024-08-27T13:22:48.700504Z",
     "shell.execute_reply": "2024-08-27T13:22:48.699216Z"
    },
    "papermill": {
     "duration": 4.796186,
     "end_time": "2024-08-27T13:22:48.703423",
     "exception": false,
     "start_time": "2024-08-27T13:22:43.907237",
     "status": "completed"
    },
    "tags": []
   },
   "outputs": [
    {
     "data": {
      "text/plain": [
       "id                            0\n",
       "class                         0\n",
       "cap-diameter                  4\n",
       "cap-shape                    40\n",
       "cap-surface              671023\n",
       "cap-color                    12\n",
       "does-bruise-or-bleed          8\n",
       "gill-attachment          523936\n",
       "gill-spacing            1258435\n",
       "gill-color                   57\n",
       "stem-height                   0\n",
       "stem-width                    0\n",
       "stem-color                   38\n",
       "has-ring                     24\n",
       "ring-type                128880\n",
       "habitat                      45\n",
       "season                        0\n",
       "dtype: int64"
      ]
     },
     "execution_count": 8,
     "metadata": {},
     "output_type": "execute_result"
    }
   ],
   "source": [
    "#dropping columns with more than 50% (training)\n",
    "col_na=train_df.loc[:, ['stem-root','stem-surface','veil-type','veil-color','spore-print-color']]\n",
    "new_train_df=train_df.drop(columns=col_na)\n",
    "new_train_df\n",
    "new_train_df.isnull().sum()"
   ]
  },
  {
   "cell_type": "code",
   "execution_count": 9,
   "id": "61ca95f7",
   "metadata": {
    "execution": {
     "iopub.execute_input": "2024-08-27T13:22:48.730010Z",
     "iopub.status.busy": "2024-08-27T13:22:48.729226Z",
     "iopub.status.idle": "2024-08-27T13:23:08.693321Z",
     "shell.execute_reply": "2024-08-27T13:23:08.692152Z"
    },
    "papermill": {
     "duration": 19.980124,
     "end_time": "2024-08-27T13:23:08.695957",
     "exception": false,
     "start_time": "2024-08-27T13:22:48.715833",
     "status": "completed"
    },
    "tags": []
   },
   "outputs": [
    {
     "data": {
      "text/plain": [
       "id                      0\n",
       "class                   0\n",
       "cap-diameter            0\n",
       "cap-shape               0\n",
       "cap-surface             0\n",
       "cap-color               0\n",
       "does-bruise-or-bleed    0\n",
       "gill-attachment         0\n",
       "gill-spacing            0\n",
       "gill-color              0\n",
       "stem-height             0\n",
       "stem-width              0\n",
       "stem-color              0\n",
       "has-ring                0\n",
       "ring-type               0\n",
       "habitat                 0\n",
       "season                  0\n",
       "dtype: int64"
      ]
     },
     "execution_count": 9,
     "metadata": {},
     "output_type": "execute_result"
    }
   ],
   "source": [
    "#Replacing NAs with the mode (training dataset)\n",
    "col = new_train_df.columns\n",
    "train = new_train_df.fillna(new_train_df.mode().iloc[0])\n",
    "train.isnull().sum()\n",
    "\n"
   ]
  },
  {
   "cell_type": "markdown",
   "id": "0e653433",
   "metadata": {
    "papermill": {
     "duration": 0.011897,
     "end_time": "2024-08-27T13:23:08.720288",
     "exception": false,
     "start_time": "2024-08-27T13:23:08.708391",
     "status": "completed"
    },
    "tags": []
   },
   "source": [
    "* **Test Data Prepocessing **"
   ]
  },
  {
   "cell_type": "code",
   "execution_count": 10,
   "id": "6f8867dc",
   "metadata": {
    "execution": {
     "iopub.execute_input": "2024-08-27T13:23:08.746959Z",
     "iopub.status.busy": "2024-08-27T13:23:08.746515Z",
     "iopub.status.idle": "2024-08-27T13:23:09.151607Z",
     "shell.execute_reply": "2024-08-27T13:23:09.150376Z"
    },
    "papermill": {
     "duration": 0.421334,
     "end_time": "2024-08-27T13:23:09.154111",
     "exception": false,
     "start_time": "2024-08-27T13:23:08.732777",
     "status": "completed"
    },
    "tags": []
   },
   "outputs": [
    {
     "data": {
      "text/html": [
       "<div>\n",
       "<style scoped>\n",
       "    .dataframe tbody tr th:only-of-type {\n",
       "        vertical-align: middle;\n",
       "    }\n",
       "\n",
       "    .dataframe tbody tr th {\n",
       "        vertical-align: top;\n",
       "    }\n",
       "\n",
       "    .dataframe thead th {\n",
       "        text-align: right;\n",
       "    }\n",
       "</style>\n",
       "<table border=\"1\" class=\"dataframe\">\n",
       "  <thead>\n",
       "    <tr style=\"text-align: right;\">\n",
       "      <th></th>\n",
       "      <th>id</th>\n",
       "      <th>cap-diameter</th>\n",
       "      <th>stem-height</th>\n",
       "      <th>stem-width</th>\n",
       "    </tr>\n",
       "  </thead>\n",
       "  <tbody>\n",
       "    <tr>\n",
       "      <th>count</th>\n",
       "      <td>2.077964e+06</td>\n",
       "      <td>2.077957e+06</td>\n",
       "      <td>2.077963e+06</td>\n",
       "      <td>2.077964e+06</td>\n",
       "    </tr>\n",
       "    <tr>\n",
       "      <th>mean</th>\n",
       "      <td>4.155926e+06</td>\n",
       "      <td>6.306192e+00</td>\n",
       "      <td>6.346509e+00</td>\n",
       "      <td>1.114837e+01</td>\n",
       "    </tr>\n",
       "    <tr>\n",
       "      <th>std</th>\n",
       "      <td>5.998567e+05</td>\n",
       "      <td>4.685462e+00</td>\n",
       "      <td>2.698978e+00</td>\n",
       "      <td>8.100181e+00</td>\n",
       "    </tr>\n",
       "    <tr>\n",
       "      <th>min</th>\n",
       "      <td>3.116945e+06</td>\n",
       "      <td>0.000000e+00</td>\n",
       "      <td>0.000000e+00</td>\n",
       "      <td>0.000000e+00</td>\n",
       "    </tr>\n",
       "    <tr>\n",
       "      <th>25%</th>\n",
       "      <td>3.636436e+06</td>\n",
       "      <td>3.310000e+00</td>\n",
       "      <td>4.670000e+00</td>\n",
       "      <td>4.970000e+00</td>\n",
       "    </tr>\n",
       "    <tr>\n",
       "      <th>50%</th>\n",
       "      <td>4.155926e+06</td>\n",
       "      <td>5.740000e+00</td>\n",
       "      <td>5.880000e+00</td>\n",
       "      <td>9.640000e+00</td>\n",
       "    </tr>\n",
       "    <tr>\n",
       "      <th>75%</th>\n",
       "      <td>4.675417e+06</td>\n",
       "      <td>8.230000e+00</td>\n",
       "      <td>7.410000e+00</td>\n",
       "      <td>1.562000e+01</td>\n",
       "    </tr>\n",
       "    <tr>\n",
       "      <th>max</th>\n",
       "      <td>5.194908e+06</td>\n",
       "      <td>6.070000e+02</td>\n",
       "      <td>5.729000e+01</td>\n",
       "      <td>1.029100e+02</td>\n",
       "    </tr>\n",
       "  </tbody>\n",
       "</table>\n",
       "</div>"
      ],
      "text/plain": [
       "                 id  cap-diameter   stem-height    stem-width\n",
       "count  2.077964e+06  2.077957e+06  2.077963e+06  2.077964e+06\n",
       "mean   4.155926e+06  6.306192e+00  6.346509e+00  1.114837e+01\n",
       "std    5.998567e+05  4.685462e+00  2.698978e+00  8.100181e+00\n",
       "min    3.116945e+06  0.000000e+00  0.000000e+00  0.000000e+00\n",
       "25%    3.636436e+06  3.310000e+00  4.670000e+00  4.970000e+00\n",
       "50%    4.155926e+06  5.740000e+00  5.880000e+00  9.640000e+00\n",
       "75%    4.675417e+06  8.230000e+00  7.410000e+00  1.562000e+01\n",
       "max    5.194908e+06  6.070000e+02  5.729000e+01  1.029100e+02"
      ]
     },
     "execution_count": 10,
     "metadata": {},
     "output_type": "execute_result"
    }
   ],
   "source": [
    "test_df.describe()"
   ]
  },
  {
   "cell_type": "code",
   "execution_count": 11,
   "id": "ffce0c76",
   "metadata": {
    "execution": {
     "iopub.execute_input": "2024-08-27T13:23:09.180910Z",
     "iopub.status.busy": "2024-08-27T13:23:09.180452Z",
     "iopub.status.idle": "2024-08-27T13:23:12.270759Z",
     "shell.execute_reply": "2024-08-27T13:23:12.269527Z"
    },
    "papermill": {
     "duration": 3.106851,
     "end_time": "2024-08-27T13:23:12.273591",
     "exception": false,
     "start_time": "2024-08-27T13:23:09.166740",
     "status": "completed"
    },
    "tags": []
   },
   "outputs": [
    {
     "data": {
      "text/plain": [
       "id                            0\n",
       "cap-diameter                  7\n",
       "cap-shape                    31\n",
       "cap-surface              446904\n",
       "cap-color                    13\n",
       "does-bruise-or-bleed         10\n",
       "gill-attachment          349821\n",
       "gill-spacing             839595\n",
       "gill-color                   49\n",
       "stem-height                   1\n",
       "stem-width                    0\n",
       "stem-root               1838012\n",
       "stem-surface            1321488\n",
       "stem-color                   21\n",
       "veil-type               1971545\n",
       "veil-color              1826124\n",
       "has-ring                     19\n",
       "ring-type                 86195\n",
       "spore-print-color       1899617\n",
       "habitat                      25\n",
       "season                        0\n",
       "dtype: int64"
      ]
     },
     "execution_count": 11,
     "metadata": {},
     "output_type": "execute_result"
    }
   ],
   "source": [
    "test_df.isnull().sum()"
   ]
  },
  {
   "cell_type": "code",
   "execution_count": 12,
   "id": "4ccbfe58",
   "metadata": {
    "execution": {
     "iopub.execute_input": "2024-08-27T13:23:12.300867Z",
     "iopub.status.busy": "2024-08-27T13:23:12.300404Z",
     "iopub.status.idle": "2024-08-27T13:23:18.467835Z",
     "shell.execute_reply": "2024-08-27T13:23:18.466469Z"
    },
    "papermill": {
     "duration": 6.184219,
     "end_time": "2024-08-27T13:23:18.470589",
     "exception": false,
     "start_time": "2024-08-27T13:23:12.286370",
     "status": "completed"
    },
    "tags": []
   },
   "outputs": [
    {
     "data": {
      "text/html": [
       "<div>\n",
       "<style scoped>\n",
       "    .dataframe tbody tr th:only-of-type {\n",
       "        vertical-align: middle;\n",
       "    }\n",
       "\n",
       "    .dataframe tbody tr th {\n",
       "        vertical-align: top;\n",
       "    }\n",
       "\n",
       "    .dataframe thead th {\n",
       "        text-align: right;\n",
       "    }\n",
       "</style>\n",
       "<table border=\"1\" class=\"dataframe\">\n",
       "  <thead>\n",
       "    <tr style=\"text-align: right;\">\n",
       "      <th></th>\n",
       "      <th>Missing Values(train)</th>\n",
       "      <th>Percentage</th>\n",
       "    </tr>\n",
       "  </thead>\n",
       "  <tbody>\n",
       "    <tr>\n",
       "      <th>id</th>\n",
       "      <td>0</td>\n",
       "      <td>0.000000</td>\n",
       "    </tr>\n",
       "    <tr>\n",
       "      <th>cap-diameter</th>\n",
       "      <td>7</td>\n",
       "      <td>0.000337</td>\n",
       "    </tr>\n",
       "    <tr>\n",
       "      <th>cap-shape</th>\n",
       "      <td>31</td>\n",
       "      <td>0.001492</td>\n",
       "    </tr>\n",
       "    <tr>\n",
       "      <th>cap-surface</th>\n",
       "      <td>446904</td>\n",
       "      <td>21.506821</td>\n",
       "    </tr>\n",
       "    <tr>\n",
       "      <th>cap-color</th>\n",
       "      <td>13</td>\n",
       "      <td>0.000626</td>\n",
       "    </tr>\n",
       "    <tr>\n",
       "      <th>does-bruise-or-bleed</th>\n",
       "      <td>10</td>\n",
       "      <td>0.000481</td>\n",
       "    </tr>\n",
       "    <tr>\n",
       "      <th>gill-attachment</th>\n",
       "      <td>349821</td>\n",
       "      <td>16.834796</td>\n",
       "    </tr>\n",
       "    <tr>\n",
       "      <th>gill-spacing</th>\n",
       "      <td>839595</td>\n",
       "      <td>40.404694</td>\n",
       "    </tr>\n",
       "    <tr>\n",
       "      <th>gill-color</th>\n",
       "      <td>49</td>\n",
       "      <td>0.002358</td>\n",
       "    </tr>\n",
       "    <tr>\n",
       "      <th>stem-height</th>\n",
       "      <td>1</td>\n",
       "      <td>0.000048</td>\n",
       "    </tr>\n",
       "    <tr>\n",
       "      <th>stem-width</th>\n",
       "      <td>0</td>\n",
       "      <td>0.000000</td>\n",
       "    </tr>\n",
       "    <tr>\n",
       "      <th>stem-root</th>\n",
       "      <td>1838012</td>\n",
       "      <td>88.452543</td>\n",
       "    </tr>\n",
       "    <tr>\n",
       "      <th>stem-surface</th>\n",
       "      <td>1321488</td>\n",
       "      <td>63.595327</td>\n",
       "    </tr>\n",
       "    <tr>\n",
       "      <th>stem-color</th>\n",
       "      <td>21</td>\n",
       "      <td>0.001011</td>\n",
       "    </tr>\n",
       "    <tr>\n",
       "      <th>veil-type</th>\n",
       "      <td>1971545</td>\n",
       "      <td>94.878689</td>\n",
       "    </tr>\n",
       "    <tr>\n",
       "      <th>veil-color</th>\n",
       "      <td>1826124</td>\n",
       "      <td>87.880445</td>\n",
       "    </tr>\n",
       "    <tr>\n",
       "      <th>has-ring</th>\n",
       "      <td>19</td>\n",
       "      <td>0.000914</td>\n",
       "    </tr>\n",
       "    <tr>\n",
       "      <th>ring-type</th>\n",
       "      <td>86195</td>\n",
       "      <td>4.148051</td>\n",
       "    </tr>\n",
       "    <tr>\n",
       "      <th>spore-print-color</th>\n",
       "      <td>1899617</td>\n",
       "      <td>91.417224</td>\n",
       "    </tr>\n",
       "    <tr>\n",
       "      <th>habitat</th>\n",
       "      <td>25</td>\n",
       "      <td>0.001203</td>\n",
       "    </tr>\n",
       "    <tr>\n",
       "      <th>season</th>\n",
       "      <td>0</td>\n",
       "      <td>0.000000</td>\n",
       "    </tr>\n",
       "  </tbody>\n",
       "</table>\n",
       "</div>"
      ],
      "text/plain": [
       "                      Missing Values(train)  Percentage\n",
       "id                                        0    0.000000\n",
       "cap-diameter                              7    0.000337\n",
       "cap-shape                                31    0.001492\n",
       "cap-surface                          446904   21.506821\n",
       "cap-color                                13    0.000626\n",
       "does-bruise-or-bleed                     10    0.000481\n",
       "gill-attachment                      349821   16.834796\n",
       "gill-spacing                         839595   40.404694\n",
       "gill-color                               49    0.002358\n",
       "stem-height                               1    0.000048\n",
       "stem-width                                0    0.000000\n",
       "stem-root                           1838012   88.452543\n",
       "stem-surface                        1321488   63.595327\n",
       "stem-color                               21    0.001011\n",
       "veil-type                           1971545   94.878689\n",
       "veil-color                          1826124   87.880445\n",
       "has-ring                                 19    0.000914\n",
       "ring-type                             86195    4.148051\n",
       "spore-print-color                   1899617   91.417224\n",
       "habitat                                  25    0.001203\n",
       "season                                    0    0.000000"
      ]
     },
     "execution_count": 12,
     "metadata": {},
     "output_type": "execute_result"
    }
   ],
   "source": [
    "test_na=test_df.isnull().sum()\n",
    "percentage = test_df.isnull().mean() * 100\n",
    "missing_test = pd.DataFrame({'Missing Values(train)':test_na, 'Percentage':percentage})\n",
    "missing_test"
   ]
  },
  {
   "cell_type": "code",
   "execution_count": 13,
   "id": "9897408e",
   "metadata": {
    "execution": {
     "iopub.execute_input": "2024-08-27T13:23:18.498679Z",
     "iopub.status.busy": "2024-08-27T13:23:18.498243Z",
     "iopub.status.idle": "2024-08-27T13:23:23.143986Z",
     "shell.execute_reply": "2024-08-27T13:23:23.142929Z"
    },
    "papermill": {
     "duration": 4.662443,
     "end_time": "2024-08-27T13:23:23.146440",
     "exception": false,
     "start_time": "2024-08-27T13:23:18.483997",
     "status": "completed"
    },
    "tags": []
   },
   "outputs": [
    {
     "data": {
      "text/plain": [
       "id                            0\n",
       "class                         0\n",
       "cap-diameter                  4\n",
       "cap-shape                    40\n",
       "cap-surface              671023\n",
       "cap-color                    12\n",
       "does-bruise-or-bleed          8\n",
       "gill-attachment          523936\n",
       "gill-spacing            1258435\n",
       "gill-color                   57\n",
       "stem-height                   0\n",
       "stem-width                    0\n",
       "stem-color                   38\n",
       "has-ring                     24\n",
       "ring-type                128880\n",
       "habitat                      45\n",
       "season                        0\n",
       "dtype: int64"
      ]
     },
     "execution_count": 13,
     "metadata": {},
     "output_type": "execute_result"
    }
   ],
   "source": [
    "#dropping columns with more than 50% (test dataset)\n",
    "col_na=test_df.loc[:, ['stem-root','stem-surface','veil-type','veil-color','spore-print-color']]\n",
    "new_test_df=test_df.drop(columns=col_na)\n",
    "new_test_df\n",
    "new_train_df.isnull().sum()"
   ]
  },
  {
   "cell_type": "code",
   "execution_count": 14,
   "id": "8f091748",
   "metadata": {
    "execution": {
     "iopub.execute_input": "2024-08-27T13:23:23.174126Z",
     "iopub.status.busy": "2024-08-27T13:23:23.173690Z",
     "iopub.status.idle": "2024-08-27T13:23:35.215643Z",
     "shell.execute_reply": "2024-08-27T13:23:35.214517Z"
    },
    "papermill": {
     "duration": 12.058899,
     "end_time": "2024-08-27T13:23:35.218261",
     "exception": false,
     "start_time": "2024-08-27T13:23:23.159362",
     "status": "completed"
    },
    "tags": []
   },
   "outputs": [
    {
     "data": {
      "text/plain": [
       "id                      0\n",
       "cap-diameter            0\n",
       "cap-shape               0\n",
       "cap-surface             0\n",
       "cap-color               0\n",
       "does-bruise-or-bleed    0\n",
       "gill-attachment         0\n",
       "gill-spacing            0\n",
       "gill-color              0\n",
       "stem-height             0\n",
       "stem-width              0\n",
       "stem-color              0\n",
       "has-ring                0\n",
       "ring-type               0\n",
       "habitat                 0\n",
       "season                  0\n",
       "dtype: int64"
      ]
     },
     "execution_count": 14,
     "metadata": {},
     "output_type": "execute_result"
    }
   ],
   "source": [
    "#Replacing NAs with the mode (test dataset)\n",
    "col_test = new_test_df.columns\n",
    "test = new_test_df.fillna(new_test_df.mode().iloc[0])\n",
    "test.isnull().sum()"
   ]
  },
  {
   "cell_type": "markdown",
   "id": "16d32527",
   "metadata": {
    "papermill": {
     "duration": 0.01301,
     "end_time": "2024-08-27T13:23:35.244581",
     "exception": false,
     "start_time": "2024-08-27T13:23:35.231571",
     "status": "completed"
    },
    "tags": []
   },
   "source": [
    "# ** Exploratory data analysis**"
   ]
  },
  {
   "cell_type": "code",
   "execution_count": 15,
   "id": "b62bd5a6",
   "metadata": {
    "execution": {
     "iopub.execute_input": "2024-08-27T13:23:35.273379Z",
     "iopub.status.busy": "2024-08-27T13:23:35.272520Z",
     "iopub.status.idle": "2024-08-27T13:23:35.931704Z",
     "shell.execute_reply": "2024-08-27T13:23:35.930426Z"
    },
    "papermill": {
     "duration": 0.676318,
     "end_time": "2024-08-27T13:23:35.934376",
     "exception": false,
     "start_time": "2024-08-27T13:23:35.258058",
     "status": "completed"
    },
    "tags": []
   },
   "outputs": [
    {
     "data": {
      "image/png": "[encoded data removed]",
      "text/plain": [
       "<Figure size 800x600 with 1 Axes>"
      ]
     },
     "metadata": {},
     "output_type": "display_data"
    }
   ],
   "source": [
    "#Count plot of classes (edible (e) and poisonous(p))\n",
    "class_counts = train['class'].value_counts() \n",
    "\n",
    "plt.figure(figsize=(8, 6))\n",
    "plt.bar(class_counts.index, class_counts, color='blue')\n",
    "plt.title('Count Plot of Classes')\n",
    "plt.xlabel('Classes')\n",
    "plt.ylabel('Count')\n",
    "plt.show()"
   ]
  },
  {
   "cell_type": "code",
   "execution_count": 16,
   "id": "93701239",
   "metadata": {
    "execution": {
     "iopub.execute_input": "2024-08-27T13:23:35.963384Z",
     "iopub.status.busy": "2024-08-27T13:23:35.962947Z",
     "iopub.status.idle": "2024-08-27T13:23:36.939404Z",
     "shell.execute_reply": "2024-08-27T13:23:36.937737Z"
    },
    "papermill": {
     "duration": 0.994549,
     "end_time": "2024-08-27T13:23:36.942626",
     "exception": false,
     "start_time": "2024-08-27T13:23:35.948077",
     "status": "completed"
    },
    "tags": []
   },
   "outputs": [
    {
     "data": {
      "image/png": "[encoded data removed]",
      "text/plain": [
       "<Figure size 640x480 with 1 Axes>"
      ]
     },
     "metadata": {},
     "output_type": "display_data"
    }
   ],
   "source": [
    "#Boxplot for cap diameter, step height and stem weidth: Presence of outliers\n",
    "plt.boxplot(train[['cap-diameter', 'stem-height', 'stem-width']],  \n",
    "            labels=['cap-diameter', 'stem-height', 'stem-width'], \n",
    "            vert=False)\n",
    "\n",
    "# Plots graph\n",
    "plt.title('Boxplot')\n",
    "plt.xlabel('Value')\n",
    "plt.ylabel('Dataset')\n",
    "plt.show()"
   ]
  },
  {
   "cell_type": "code",
   "execution_count": 17,
   "id": "79e5b456",
   "metadata": {
    "execution": {
     "iopub.execute_input": "2024-08-27T13:23:36.972771Z",
     "iopub.status.busy": "2024-08-27T13:23:36.972348Z",
     "iopub.status.idle": "2024-08-27T13:23:53.735024Z",
     "shell.execute_reply": "2024-08-27T13:23:53.733732Z"
    },
    "papermill": {
     "duration": 16.782308,
     "end_time": "2024-08-27T13:23:53.739364",
     "exception": false,
     "start_time": "2024-08-27T13:23:36.957056",
     "status": "completed"
    },
    "tags": []
   },
   "outputs": [
    {
     "data": {
      "image/png": "[encoded data removed]",
      "text/plain": [
       "<Figure size 1500x1000 with 2 Axes>"
      ]
     },
     "metadata": {},
     "output_type": "display_data"
    }
   ],
   "source": [
    "#Correlation Heatmap\n",
    "\n",
    "label_encoders = {}\n",
    "for column in train.select_dtypes(include=['object']).columns:\n",
    "    le = LabelEncoder()\n",
    "    train[column] = le.fit_transform(train[column])\n",
    "    label_encoders[column] = le\n",
    "    \n",
    "    \n",
    "plt.figure(figsize=(15, 10))\n",
    "\n",
    "sns.heatmap(train.corr(), annot=True, fmt='.2f', cmap='Pastel2', linewidths=1)\n",
    "plt.title('Correlation Heatmap')\n",
    "plt.show()\n",
    "\n",
    "\n"
   ]
  },
  {
   "cell_type": "markdown",
   "id": "3b615ebd",
   "metadata": {
    "papermill": {
     "duration": 0.016186,
     "end_time": "2024-08-27T13:23:53.772642",
     "exception": false,
     "start_time": "2024-08-27T13:23:53.756456",
     "status": "completed"
    },
    "tags": []
   },
   "source": [
    "# **Data Analysis**"
   ]
  },
  {
   "cell_type": "code",
   "execution_count": 18,
   "id": "89ed4fe8",
   "metadata": {
    "execution": {
     "iopub.execute_input": "2024-08-27T13:23:53.808422Z",
     "iopub.status.busy": "2024-08-27T13:23:53.808001Z",
     "iopub.status.idle": "2024-08-27T13:23:59.595477Z",
     "shell.execute_reply": "2024-08-27T13:23:59.594234Z"
    },
    "papermill": {
     "duration": 5.809025,
     "end_time": "2024-08-27T13:23:59.598354",
     "exception": false,
     "start_time": "2024-08-27T13:23:53.789329",
     "status": "completed"
    },
    "tags": []
   },
   "outputs": [],
   "source": [
    "one_hot_encoded_training = pd.get_dummies(train)\n",
    "one_hot_encoded_test = pd.get_dummies(test)\n"
   ]
  },
  {
   "cell_type": "code",
   "execution_count": 19,
   "id": "125d6225",
   "metadata": {
    "execution": {
     "iopub.execute_input": "2024-08-27T13:23:59.634293Z",
     "iopub.status.busy": "2024-08-27T13:23:59.633830Z",
     "iopub.status.idle": "2024-08-27T13:24:02.703874Z",
     "shell.execute_reply": "2024-08-27T13:24:02.702238Z"
    },
    "papermill": {
     "duration": 3.092982,
     "end_time": "2024-08-27T13:24:02.708475",
     "exception": false,
     "start_time": "2024-08-27T13:23:59.615493",
     "status": "completed"
    },
    "tags": []
   },
   "outputs": [
    {
     "data": {
      "text/html": [
       "<style>#sk-container-id-1 {color: black;background-color: white;}#sk-container-id-1 pre{padding: 0;}#sk-container-id-1 div.sk-toggleable {background-color: white;}#sk-container-id-1 label.sk-toggleable__label {cursor: pointer;display: block;width: 100%;margin-bottom: 0;padding: 0.3em;box-sizing: border-box;text-align: center;}#sk-container-id-1 label.sk-toggleable__label-arrow:before {content: \"▸\";float: left;margin-right: 0.25em;color: #696969;}#sk-container-id-1 label.sk-toggleable__label-arrow:hover:before {color: black;}#sk-container-id-1 div.sk-estimator:hover label.sk-toggleable__label-arrow:before {color: black;}#sk-container-id-1 div.sk-toggleable__content {max-height: 0;max-width: 0;overflow: hidden;text-align: left;background-color: #f0f8ff;}#sk-container-id-1 div.sk-toggleable__content pre {margin: 0.2em;color: black;border-radius: 0.25em;background-color: #f0f8ff;}#sk-container-id-1 input.sk-toggleable__control:checked~div.sk-toggleable__content {max-height: 200px;max-width: 100%;overflow: auto;}#sk-container-id-1 input.sk-toggleable__control:checked~label.sk-toggleable__label-arrow:before {content: \"▾\";}#sk-container-id-1 div.sk-estimator input.sk-toggleable__control:checked~label.sk-toggleable__label {background-color: #d4ebff;}#sk-container-id-1 div.sk-label input.sk-toggleable__control:checked~label.sk-toggleable__label {background-color: #d4ebff;}#sk-container-id-1 input.sk-hidden--visually {border: 0;clip: rect(1px 1px 1px 1px);clip: rect(1px, 1px, 1px, 1px);height: 1px;margin: -1px;overflow: hidden;padding: 0;position: absolute;width: 1px;}#sk-container-id-1 div.sk-estimator {font-family: monospace;background-color: #f0f8ff;border: 1px dotted black;border-radius: 0.25em;box-sizing: border-box;margin-bottom: 0.5em;}#sk-container-id-1 div.sk-estimator:hover {background-color: #d4ebff;}#sk-container-id-1 div.sk-parallel-item::after {content: \"\";width: 100%;border-bottom: 1px solid gray;flex-grow: 1;}#sk-container-id-1 div.sk-label:hover label.sk-toggleable__label {background-color: #d4ebff;}#sk-container-id-1 div.sk-serial::before {content: \"\";position: absolute;border-left: 1px solid gray;box-sizing: border-box;top: 0;bottom: 0;left: 50%;z-index: 0;}#sk-container-id-1 div.sk-serial {display: flex;flex-direction: column;align-items: center;background-color: white;padding-right: 0.2em;padding-left: 0.2em;position: relative;}#sk-container-id-1 div.sk-item {position: relative;z-index: 1;}#sk-container-id-1 div.sk-parallel {display: flex;align-items: stretch;justify-content: center;background-color: white;position: relative;}#sk-container-id-1 div.sk-item::before, #sk-container-id-1 div.sk-parallel-item::before {content: \"\";position: absolute;border-left: 1px solid gray;box-sizing: border-box;top: 0;bottom: 0;left: 50%;z-index: -1;}#sk-container-id-1 div.sk-parallel-item {display: flex;flex-direction: column;z-index: 1;position: relative;background-color: white;}#sk-container-id-1 div.sk-parallel-item:first-child::after {align-self: flex-end;width: 50%;}#sk-container-id-1 div.sk-parallel-item:last-child::after {align-self: flex-start;width: 50%;}#sk-container-id-1 div.sk-parallel-item:only-child::after {width: 0;}#sk-container-id-1 div.sk-dashed-wrapped {border: 1px dashed gray;margin: 0 0.4em 0.5em 0.4em;box-sizing: border-box;padding-bottom: 0.4em;background-color: white;}#sk-container-id-1 div.sk-label label {font-family: monospace;font-weight: bold;display: inline-block;line-height: 1.2em;}#sk-container-id-1 div.sk-label-container {text-align: center;}#sk-container-id-1 div.sk-container {/* jupyter's `normalize.less` sets `[hidden] { display: none; }` but bootstrap.min.css set `[hidden] { display: none !important; }` so we also need the `!important` here to be able to override the default hidden behavior on the sphinx rendered scikit-learn.org. See: https://github.com/scikit-learn/scikit-learn/issues/21755 */display: inline-block !important;position: relative;}#sk-container-id-1 div.sk-text-repr-fallback {display: none;}</style><div id=\"sk-container-id-1\" class=\"sk-top-container\"><div class=\"sk-text-repr-fallback\"><pre>LogisticRegression()</pre><b>In a Jupyter environment, please rerun this cell to show the HTML representation or trust the notebook. <br />On GitHub, the HTML representation is unable to render, please try loading this page with nbviewer.org.</b></div><div class=\"sk-container\" hidden><div class=\"sk-item\"><div class=\"sk-estimator sk-toggleable\"><input class=\"sk-toggleable__control sk-hidden--visually\" id=\"sk-estimator-id-1\" type=\"checkbox\" checked><label for=\"sk-estimator-id-1\" class=\"sk-toggleable__label sk-toggleable__label-arrow\">LogisticRegression</label><div class=\"sk-toggleable__content\"><pre>LogisticRegression()</pre></div></div></div></div></div>"
      ],
      "text/plain": [
       "LogisticRegression()"
      ]
     },
     "execution_count": 19,
     "metadata": {},
     "output_type": "execute_result"
    }
   ],
   "source": [
    "# Separate features and target\n",
    "X = one_hot_encoded_training.drop('class', axis=1)\n",
    "y = one_hot_encoded_training['class']\n",
    "\n",
    "\n",
    "\n",
    "# Create and fit the logistic regression model\n",
    "model = LogisticRegression()\n",
    "model.fit(X, y)"
   ]
  },
  {
   "cell_type": "code",
   "execution_count": 20,
   "id": "17b1bf5c",
   "metadata": {
    "execution": {
     "iopub.execute_input": "2024-08-27T13:24:02.785093Z",
     "iopub.status.busy": "2024-08-27T13:24:02.783591Z",
     "iopub.status.idle": "2024-08-27T13:24:04.550170Z",
     "shell.execute_reply": "2024-08-27T13:24:04.545517Z"
    },
    "papermill": {
     "duration": 1.809902,
     "end_time": "2024-08-27T13:24:04.554844",
     "exception": false,
     "start_time": "2024-08-27T13:24:02.744942",
     "status": "completed"
    },
    "tags": []
   },
   "outputs": [
    {
     "name": "stdout",
     "output_type": "stream",
     "text": [
      "Predicted class labels: [1 1 1 ... 1 1 1]\n"
     ]
    }
   ],
   "source": [
    "# Align columns of the test set to match the training set\n",
    "aligned_test = one_hot_encoded_test.copy()\n",
    "\n",
    "# Add any missing columns in the test set\n",
    "for col in X.columns:\n",
    "    if col not in aligned_test.columns:\n",
    "        aligned_test[col] = 0  # Fill missing columns with 0\n",
    "\n",
    "# Ensure the column order matches\n",
    "aligned_test = aligned_test[X.columns]\n",
    "\n",
    "# Predict using the fitted model\n",
    "test_pred = model.predict(aligned_test)\n",
    "print(\"Predicted class labels:\", test_pred)\n",
    "\n"
   ]
  },
  {
   "cell_type": "code",
   "execution_count": 21,
   "id": "19995c08",
   "metadata": {
    "execution": {
     "iopub.execute_input": "2024-08-27T13:24:04.631224Z",
     "iopub.status.busy": "2024-08-27T13:24:04.630253Z",
     "iopub.status.idle": "2024-08-27T13:24:04.639077Z",
     "shell.execute_reply": "2024-08-27T13:24:04.637947Z"
    },
    "papermill": {
     "duration": 0.053829,
     "end_time": "2024-08-27T13:24:04.644790",
     "exception": false,
     "start_time": "2024-08-27T13:24:04.590961",
     "status": "completed"
    },
    "tags": []
   },
   "outputs": [
    {
     "name": "stdout",
     "output_type": "stream",
     "text": [
      "2077964\n",
      "2077964\n"
     ]
    }
   ],
   "source": [
    "print(len(test_pred))\n",
    "print(len(test))"
   ]
  },
  {
   "cell_type": "code",
   "execution_count": 22,
   "id": "20a2b5f9",
   "metadata": {
    "execution": {
     "iopub.execute_input": "2024-08-27T13:24:04.681650Z",
     "iopub.status.busy": "2024-08-27T13:24:04.681235Z",
     "iopub.status.idle": "2024-08-27T13:24:04.693781Z",
     "shell.execute_reply": "2024-08-27T13:24:04.692545Z"
    },
    "papermill": {
     "duration": 0.034014,
     "end_time": "2024-08-27T13:24:04.696612",
     "exception": false,
     "start_time": "2024-08-27T13:24:04.662598",
     "status": "completed"
    },
    "tags": []
   },
   "outputs": [],
   "source": [
    "submission = pd.DataFrame({'id': test['id'], 'class': test_pred })\n"
   ]
  },
  {
   "cell_type": "code",
   "execution_count": 23,
   "id": "a77f4a75",
   "metadata": {
    "execution": {
     "iopub.execute_input": "2024-08-27T13:24:04.734483Z",
     "iopub.status.busy": "2024-08-27T13:24:04.734010Z",
     "iopub.status.idle": "2024-08-27T13:24:04.745860Z",
     "shell.execute_reply": "2024-08-27T13:24:04.744632Z"
    },
    "papermill": {
     "duration": 0.033754,
     "end_time": "2024-08-27T13:24:04.748292",
     "exception": false,
     "start_time": "2024-08-27T13:24:04.714538",
     "status": "completed"
    },
    "tags": []
   },
   "outputs": [
    {
     "data": {
      "text/html": [
       "<div>\n",
       "<style scoped>\n",
       "    .dataframe tbody tr th:only-of-type {\n",
       "        vertical-align: middle;\n",
       "    }\n",
       "\n",
       "    .dataframe tbody tr th {\n",
       "        vertical-align: top;\n",
       "    }\n",
       "\n",
       "    .dataframe thead th {\n",
       "        text-align: right;\n",
       "    }\n",
       "</style>\n",
       "<table border=\"1\" class=\"dataframe\">\n",
       "  <thead>\n",
       "    <tr style=\"text-align: right;\">\n",
       "      <th></th>\n",
       "      <th>id</th>\n",
       "      <th>class</th>\n",
       "    </tr>\n",
       "  </thead>\n",
       "  <tbody>\n",
       "    <tr>\n",
       "      <th>0</th>\n",
       "      <td>3116945</td>\n",
       "      <td>1</td>\n",
       "    </tr>\n",
       "    <tr>\n",
       "      <th>1</th>\n",
       "      <td>3116946</td>\n",
       "      <td>1</td>\n",
       "    </tr>\n",
       "    <tr>\n",
       "      <th>2</th>\n",
       "      <td>3116947</td>\n",
       "      <td>1</td>\n",
       "    </tr>\n",
       "    <tr>\n",
       "      <th>3</th>\n",
       "      <td>3116948</td>\n",
       "      <td>1</td>\n",
       "    </tr>\n",
       "    <tr>\n",
       "      <th>4</th>\n",
       "      <td>3116949</td>\n",
       "      <td>1</td>\n",
       "    </tr>\n",
       "  </tbody>\n",
       "</table>\n",
       "</div>"
      ],
      "text/plain": [
       "        id  class\n",
       "0  3116945      1\n",
       "1  3116946      1\n",
       "2  3116947      1\n",
       "3  3116948      1\n",
       "4  3116949      1"
      ]
     },
     "execution_count": 23,
     "metadata": {},
     "output_type": "execute_result"
    }
   ],
   "source": [
    "submission.head()"
   ]
  },
  {
   "cell_type": "code",
   "execution_count": 24,
   "id": "e6d0c439",
   "metadata": {
    "execution": {
     "iopub.execute_input": "2024-08-27T13:24:04.785411Z",
     "iopub.status.busy": "2024-08-27T13:24:04.784979Z",
     "iopub.status.idle": "2024-08-27T13:24:04.850100Z",
     "shell.execute_reply": "2024-08-27T13:24:04.849029Z"
    },
    "papermill": {
     "duration": 0.086656,
     "end_time": "2024-08-27T13:24:04.852735",
     "exception": false,
     "start_time": "2024-08-27T13:24:04.766079",
     "status": "completed"
    },
    "tags": []
   },
   "outputs": [
    {
     "data": {
      "text/html": [
       "<div>\n",
       "<style scoped>\n",
       "    .dataframe tbody tr th:only-of-type {\n",
       "        vertical-align: middle;\n",
       "    }\n",
       "\n",
       "    .dataframe tbody tr th {\n",
       "        vertical-align: top;\n",
       "    }\n",
       "\n",
       "    .dataframe thead th {\n",
       "        text-align: right;\n",
       "    }\n",
       "</style>\n",
       "<table border=\"1\" class=\"dataframe\">\n",
       "  <thead>\n",
       "    <tr style=\"text-align: right;\">\n",
       "      <th></th>\n",
       "      <th>class</th>\n",
       "    </tr>\n",
       "  </thead>\n",
       "  <tbody>\n",
       "    <tr>\n",
       "      <th>0</th>\n",
       "      <td>p</td>\n",
       "    </tr>\n",
       "    <tr>\n",
       "      <th>1</th>\n",
       "      <td>p</td>\n",
       "    </tr>\n",
       "    <tr>\n",
       "      <th>2</th>\n",
       "      <td>p</td>\n",
       "    </tr>\n",
       "    <tr>\n",
       "      <th>3</th>\n",
       "      <td>p</td>\n",
       "    </tr>\n",
       "    <tr>\n",
       "      <th>4</th>\n",
       "      <td>p</td>\n",
       "    </tr>\n",
       "    <tr>\n",
       "      <th>...</th>\n",
       "      <td>...</td>\n",
       "    </tr>\n",
       "    <tr>\n",
       "      <th>2077959</th>\n",
       "      <td>p</td>\n",
       "    </tr>\n",
       "    <tr>\n",
       "      <th>2077960</th>\n",
       "      <td>p</td>\n",
       "    </tr>\n",
       "    <tr>\n",
       "      <th>2077961</th>\n",
       "      <td>p</td>\n",
       "    </tr>\n",
       "    <tr>\n",
       "      <th>2077962</th>\n",
       "      <td>p</td>\n",
       "    </tr>\n",
       "    <tr>\n",
       "      <th>2077963</th>\n",
       "      <td>p</td>\n",
       "    </tr>\n",
       "  </tbody>\n",
       "</table>\n",
       "<p>2077964 rows × 1 columns</p>\n",
       "</div>"
      ],
      "text/plain": [
       "        class\n",
       "0           p\n",
       "1           p\n",
       "2           p\n",
       "3           p\n",
       "4           p\n",
       "...       ...\n",
       "2077959     p\n",
       "2077960     p\n",
       "2077961     p\n",
       "2077962     p\n",
       "2077963     p\n",
       "\n",
       "[2077964 rows x 1 columns]"
      ]
     },
     "execution_count": 24,
     "metadata": {},
     "output_type": "execute_result"
    }
   ],
   "source": [
    "pred_d = pd.DataFrame(test_pred, columns=['class']) \n",
    "pred_d['class'] = pred_d['class'].map({0: 'e', 1:'p'}) \n",
    "pred_d"
   ]
  },
  {
   "cell_type": "code",
   "execution_count": 25,
   "id": "982eeb38",
   "metadata": {
    "execution": {
     "iopub.execute_input": "2024-08-27T13:24:04.890342Z",
     "iopub.status.busy": "2024-08-27T13:24:04.889865Z",
     "iopub.status.idle": "2024-08-27T13:24:08.314264Z",
     "shell.execute_reply": "2024-08-27T13:24:08.312960Z"
    },
    "papermill": {
     "duration": 3.446548,
     "end_time": "2024-08-27T13:24:08.317165",
     "exception": false,
     "start_time": "2024-08-27T13:24:04.870617",
     "status": "completed"
    },
    "tags": []
   },
   "outputs": [],
   "source": [
    "submit = pd.read_csv(\"/kaggle/input/playground-series-s4e8/sample_submission.csv\")\n",
    "submit['class'] = pred_d['class']\n",
    "submit.to_csv(\"submission.csv\", index=False) "
   ]
  },
  {
   "cell_type": "code",
   "execution_count": 26,
   "id": "184df4f0",
   "metadata": {
    "execution": {
     "iopub.execute_input": "2024-08-27T13:24:08.355260Z",
     "iopub.status.busy": "2024-08-27T13:24:08.354823Z",
     "iopub.status.idle": "2024-08-27T13:24:08.367643Z",
     "shell.execute_reply": "2024-08-27T13:24:08.366538Z"
    },
    "papermill": {
     "duration": 0.034834,
     "end_time": "2024-08-27T13:24:08.370086",
     "exception": false,
     "start_time": "2024-08-27T13:24:08.335252",
     "status": "completed"
    },
    "tags": []
   },
   "outputs": [
    {
     "data": {
      "text/html": [
       "<div>\n",
       "<style scoped>\n",
       "    .dataframe tbody tr th:only-of-type {\n",
       "        vertical-align: middle;\n",
       "    }\n",
       "\n",
       "    .dataframe tbody tr th {\n",
       "        vertical-align: top;\n",
       "    }\n",
       "\n",
       "    .dataframe thead th {\n",
       "        text-align: right;\n",
       "    }\n",
       "</style>\n",
       "<table border=\"1\" class=\"dataframe\">\n",
       "  <thead>\n",
       "    <tr style=\"text-align: right;\">\n",
       "      <th></th>\n",
       "      <th>id</th>\n",
       "      <th>class</th>\n",
       "    </tr>\n",
       "  </thead>\n",
       "  <tbody>\n",
       "    <tr>\n",
       "      <th>0</th>\n",
       "      <td>3116945</td>\n",
       "      <td>p</td>\n",
       "    </tr>\n",
       "    <tr>\n",
       "      <th>1</th>\n",
       "      <td>3116946</td>\n",
       "      <td>p</td>\n",
       "    </tr>\n",
       "    <tr>\n",
       "      <th>2</th>\n",
       "      <td>3116947</td>\n",
       "      <td>p</td>\n",
       "    </tr>\n",
       "    <tr>\n",
       "      <th>3</th>\n",
       "      <td>3116948</td>\n",
       "      <td>p</td>\n",
       "    </tr>\n",
       "    <tr>\n",
       "      <th>4</th>\n",
       "      <td>3116949</td>\n",
       "      <td>p</td>\n",
       "    </tr>\n",
       "    <tr>\n",
       "      <th>...</th>\n",
       "      <td>...</td>\n",
       "      <td>...</td>\n",
       "    </tr>\n",
       "    <tr>\n",
       "      <th>2077959</th>\n",
       "      <td>5194904</td>\n",
       "      <td>p</td>\n",
       "    </tr>\n",
       "    <tr>\n",
       "      <th>2077960</th>\n",
       "      <td>5194905</td>\n",
       "      <td>p</td>\n",
       "    </tr>\n",
       "    <tr>\n",
       "      <th>2077961</th>\n",
       "      <td>5194906</td>\n",
       "      <td>p</td>\n",
       "    </tr>\n",
       "    <tr>\n",
       "      <th>2077962</th>\n",
       "      <td>5194907</td>\n",
       "      <td>p</td>\n",
       "    </tr>\n",
       "    <tr>\n",
       "      <th>2077963</th>\n",
       "      <td>5194908</td>\n",
       "      <td>p</td>\n",
       "    </tr>\n",
       "  </tbody>\n",
       "</table>\n",
       "<p>2077964 rows × 2 columns</p>\n",
       "</div>"
      ],
      "text/plain": [
       "              id class\n",
       "0        3116945     p\n",
       "1        3116946     p\n",
       "2        3116947     p\n",
       "3        3116948     p\n",
       "4        3116949     p\n",
       "...          ...   ...\n",
       "2077959  5194904     p\n",
       "2077960  5194905     p\n",
       "2077961  5194906     p\n",
       "2077962  5194907     p\n",
       "2077963  5194908     p\n",
       "\n",
       "[2077964 rows x 2 columns]"
      ]
     },
     "execution_count": 26,
     "metadata": {},
     "output_type": "execute_result"
    }
   ],
   "source": [
    "submit"
   ]
  }
 ],
 "metadata": {
  "kaggle": {
   "accelerator": "none",
   "dataSources": [
    {
     "databundleVersionId": 9045607,
     "sourceId": 76727,
     "sourceType": "competition"
    }
   ],
   "dockerImageVersionId": 30761,
   "isGpuEnabled": false,
   "isInternetEnabled": true,
   "language": "python",
   "sourceType": "notebook"
  },
  "kernelspec": {
   "display_name": "Python 3",
   "language": "python",
   "name": "python3"
  },
  "language_info": {
   "codemirror_mode": {
    "name": "ipython",
    "version": 3
   },
   "file_extension": ".py",
   "mimetype": "text/x-python",
   "name": "python",
   "nbconvert_exporter": "python",
   "pygments_lexer": "ipython3",
   "version": "3.10.14"
  },
  "papermill": {
   "default_parameters": {},
   "duration": 127.418444,
   "end_time": "2024-08-27T13:24:09.814370",
   "environment_variables": {},
   "exception": null,
   "input_path": "__notebook__.ipynb",
   "output_path": "__notebook__.ipynb",
   "parameters": {},
   "start_time": "2024-08-27T13:22:02.395926",
   "version": "2.6.0"
  }
 },
 "nbformat": 4,
 "nbformat_minor": 5
}
